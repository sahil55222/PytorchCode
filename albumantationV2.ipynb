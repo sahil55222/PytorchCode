{
  "nbformat": 4,
  "nbformat_minor": 0,
  "metadata": {
    "colab": {
      "provenance": []
    },
    "kernelspec": {
      "name": "python3",
      "display_name": "Python 3"
    },
    "language_info": {
      "name": "python"
    }
  },
  "cells": [
    {
      "cell_type": "code",
      "source": [
        "import zipfile\n",
        "\n",
        "def unzip_file(zip_filename, output_dir):\n",
        "    with zipfile.ZipFile(zip_filename, 'r') as zipf:\n",
        "        zipf.extractall(output_dir)\n",
        "    print(f\"Files extracted to {output_dir}\")\n",
        "\n",
        "# Example usage:\n",
        "unzip_file('/content/Cells.zip', '/content/')"
      ],
      "metadata": {
        "colab": {
          "base_uri": "https://localhost:8080/"
        },
        "id": "VuK9geYQlcwT",
        "outputId": "05ea7848-1d04-4103-ece5-b6801c84684e"
      },
      "execution_count": null,
      "outputs": [
        {
          "output_type": "stream",
          "name": "stdout",
          "text": [
            "Files extracted to /content/\n"
          ]
        }
      ]
    },
    {
      "cell_type": "code",
      "source": [
        "import os\n",
        "import cv2\n",
        "import numpy as np\n",
        "import albumentations as A\n",
        "from tqdm import tqdm\n",
        "\n",
        "def augment_and_save_images_with_masks(input_image_folder, input_mask_folder, output_image_folder, output_mask_folder, total_samples=2000):\n",
        "    # Define augmentations with resizing to 256x256\n",
        "    transform = A.Compose([\n",
        "        #A.Resize(256, 256, always_apply=True),  # Resize both images & masks to 256x256\n",
        "        A.HorizontalFlip(p=0.5),\n",
        "        A.Rotate(limit=30, p=0.5),\n",
        "        #A.RandomCrop(height=256, width=256, p=0.5),  # Crop within 256x256\n",
        "    ])\n",
        "\n",
        "    # Get list of image and mask files\n",
        "    image_files = sorted([f for f in os.listdir(input_image_folder) if f.lower().endswith(('.jpg', '.jpeg', '.png'))])\n",
        "    mask_files = sorted([f for f in os.listdir(input_mask_folder) if f.lower().endswith(('.jpeg'))])\n",
        "\n",
        "    # Ensure image-mask alignment\n",
        "    if len(image_files) != len(mask_files):\n",
        "        print(\"Warning: Mismatch in the number of images and masks!\")\n",
        "\n",
        "    # Create output directories if they don't exist\n",
        "    os.makedirs(output_image_folder, exist_ok=True)\n",
        "    os.makedirs(output_mask_folder, exist_ok=True)\n",
        "\n",
        "    num_original_images = len(image_files)\n",
        "\n",
        "    # Determine augmentations per image needed\n",
        "    num_augs_per_image = max(1, total_samples // num_original_images)\n",
        "\n",
        "    index = 0\n",
        "    for img_name, mask_name in tqdm(zip(image_files, mask_files), total=num_original_images):\n",
        "        image_file = os.path.join(input_image_folder, img_name)\n",
        "        mask_file = os.path.join(input_mask_folder, mask_name)\n",
        "\n",
        "        # Load image in RGB\n",
        "        image = cv2.imread(image_file)\n",
        "        image = cv2.cvtColor(image, cv2.COLOR_BGR2RGB)  # Convert BGR to RGB\n",
        "\n",
        "        # Load mask in RGB (preserve colors)\n",
        "        mask = cv2.imread(mask_file, cv2.IMREAD_UNCHANGED)  # Load mask in original color (not grayscale)\n",
        "        mask = cv2.cvtColor(mask, cv2.COLOR_BGR2RGB)  # Ensure it's RGB\n",
        "\n",
        "        # Skip invalid images/masks\n",
        "        if image is None or mask is None:\n",
        "            print(f\"Skipping: {img_name} (image/mask not found or invalid)\")\n",
        "            continue\n",
        "\n",
        "        # Resize both to 256x256\n",
        "        #image = cv2.resize(image, (256, 256), interpolation=cv2.INTER_LINEAR)\n",
        "        #mask = cv2.resize(mask, (256, 256), interpolation=cv2.INTER_NEAREST)  # Use NEAREST to preserve segmentation colors\n",
        "\n",
        "        for _ in range(num_augs_per_image):\n",
        "            augmented = transform(image=image, mask=mask)\n",
        "            augmented_image = augmented['image']\n",
        "            augmented_mask = augmented['mask']\n",
        "\n",
        "            # Ensure valid augmented images/masks\n",
        "            if augmented_image is None or augmented_mask is None:\n",
        "                continue\n",
        "\n",
        "            # Save augmented image and mask\n",
        "            output_image_file = os.path.join(output_image_folder, f\"augmented_{index}.jpg\")\n",
        "            output_mask_file = os.path.join(output_mask_folder, f\"augmented_{index}.jpeg\")\n",
        "\n",
        "            cv2.imwrite(output_image_file, cv2.cvtColor(augmented_image, cv2.COLOR_RGB2BGR))  # Convert back to BGR for OpenCV\n",
        "            cv2.imwrite(output_mask_file, cv2.cvtColor(augmented_mask, cv2.COLOR_RGB2BGR))  # Ensure mask remains in RGB\n",
        "\n",
        "            index += 1\n",
        "            if index >= total_samples:\n",
        "                break  # Stop when we reach the desired number of samples\n",
        "\n",
        "        if index >= total_samples:\n",
        "            break  # Stop if we have reached 2000 samples\n",
        "\n",
        "if __name__ == \"__main__\":\n",
        "    # Define paths\n",
        "    input_image_folder = \"/content/Cells/Train/images/\"\n",
        "    input_mask_folder = \"/content/Cells/Train/masks/\"\n",
        "    output_image_folder = \"/content/cell_bi/aug_images_bi/\"\n",
        "    output_mask_folder = \"/content/cell_bi/aug_masks_bi/\"\n",
        "\n",
        "    # Set total number of augmented image-mask pairs\n",
        "    total_samples = 2000\n",
        "\n",
        "    # Run augmentation\n",
        "    augment_and_save_images_with_masks(input_image_folder, input_mask_folder, output_image_folder, output_mask_folder, total_samples)"
      ],
      "metadata": {
        "id": "YO-Fc1e0P_bw"
      },
      "execution_count": null,
      "outputs": []
    }
  ]
}